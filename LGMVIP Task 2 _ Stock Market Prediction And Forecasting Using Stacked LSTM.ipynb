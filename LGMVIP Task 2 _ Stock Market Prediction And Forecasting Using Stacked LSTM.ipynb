{
 "cells": [
  {
   "cell_type": "markdown",
   "id": "dc9ce9d8",
   "metadata": {},
   "source": [
    "# Task - 2: Stock Market Prediction"
   ]
  },
  {
   "cell_type": "code",
   "execution_count": 1,
   "id": "c15874b6",
   "metadata": {},
   "outputs": [],
   "source": [
    "import pandas as pd\n",
    "import numpy as np\n",
    "import seaborn as sns\n",
    "import matplotlib.pyplot as plt\n",
    "from sklearn.linear_model import LinearRegression\n",
    "from sklearn.model_selection import train_test_split\n",
    "from sklearn.metrics import mean_absolute_error, mean_squared_error, r2_score\n",
    "from sklearn.preprocessing import StandardScaler\n",
    "from sklearn.ensemble import RandomForestRegressor\n",
    "import warnings\n",
    "warnings.filterwarnings('ignore')"
   ]
  },
  {
   "cell_type": "code",
   "execution_count": 2,
   "id": "b86eb9b4",
   "metadata": {},
   "outputs": [
    {
     "data": {
      "text/html": [
       "<div>\n",
       "<style scoped>\n",
       "    .dataframe tbody tr th:only-of-type {\n",
       "        vertical-align: middle;\n",
       "    }\n",
       "\n",
       "    .dataframe tbody tr th {\n",
       "        vertical-align: top;\n",
       "    }\n",
       "\n",
       "    .dataframe thead th {\n",
       "        text-align: right;\n",
       "    }\n",
       "</style>\n",
       "<table border=\"1\" class=\"dataframe\">\n",
       "  <thead>\n",
       "    <tr style=\"text-align: right;\">\n",
       "      <th></th>\n",
       "      <th>Date</th>\n",
       "      <th>Open</th>\n",
       "      <th>High</th>\n",
       "      <th>Low</th>\n",
       "      <th>Last</th>\n",
       "      <th>Close</th>\n",
       "      <th>Total Trade Quantity</th>\n",
       "      <th>Turnover (Lacs)</th>\n",
       "    </tr>\n",
       "  </thead>\n",
       "  <tbody>\n",
       "    <tr>\n",
       "      <th>0</th>\n",
       "      <td>2018-10-08</td>\n",
       "      <td>208.00</td>\n",
       "      <td>222.25</td>\n",
       "      <td>206.85</td>\n",
       "      <td>216.00</td>\n",
       "      <td>215.15</td>\n",
       "      <td>4642146.0</td>\n",
       "      <td>10062.83</td>\n",
       "    </tr>\n",
       "    <tr>\n",
       "      <th>1</th>\n",
       "      <td>2018-10-05</td>\n",
       "      <td>217.00</td>\n",
       "      <td>218.60</td>\n",
       "      <td>205.90</td>\n",
       "      <td>210.25</td>\n",
       "      <td>209.20</td>\n",
       "      <td>3519515.0</td>\n",
       "      <td>7407.06</td>\n",
       "    </tr>\n",
       "    <tr>\n",
       "      <th>2</th>\n",
       "      <td>2018-10-04</td>\n",
       "      <td>223.50</td>\n",
       "      <td>227.80</td>\n",
       "      <td>216.15</td>\n",
       "      <td>217.25</td>\n",
       "      <td>218.20</td>\n",
       "      <td>1728786.0</td>\n",
       "      <td>3815.79</td>\n",
       "    </tr>\n",
       "    <tr>\n",
       "      <th>3</th>\n",
       "      <td>2018-10-03</td>\n",
       "      <td>230.00</td>\n",
       "      <td>237.50</td>\n",
       "      <td>225.75</td>\n",
       "      <td>226.45</td>\n",
       "      <td>227.60</td>\n",
       "      <td>1708590.0</td>\n",
       "      <td>3960.27</td>\n",
       "    </tr>\n",
       "    <tr>\n",
       "      <th>4</th>\n",
       "      <td>2018-10-01</td>\n",
       "      <td>234.55</td>\n",
       "      <td>234.60</td>\n",
       "      <td>221.05</td>\n",
       "      <td>230.30</td>\n",
       "      <td>230.90</td>\n",
       "      <td>1534749.0</td>\n",
       "      <td>3486.05</td>\n",
       "    </tr>\n",
       "  </tbody>\n",
       "</table>\n",
       "</div>"
      ],
      "text/plain": [
       "         Date    Open    High     Low    Last   Close  Total Trade Quantity  \\\n",
       "0  2018-10-08  208.00  222.25  206.85  216.00  215.15             4642146.0   \n",
       "1  2018-10-05  217.00  218.60  205.90  210.25  209.20             3519515.0   \n",
       "2  2018-10-04  223.50  227.80  216.15  217.25  218.20             1728786.0   \n",
       "3  2018-10-03  230.00  237.50  225.75  226.45  227.60             1708590.0   \n",
       "4  2018-10-01  234.55  234.60  221.05  230.30  230.90             1534749.0   \n",
       "\n",
       "   Turnover (Lacs)  \n",
       "0         10062.83  \n",
       "1          7407.06  \n",
       "2          3815.79  \n",
       "3          3960.27  \n",
       "4          3486.05  "
      ]
     },
     "execution_count": 2,
     "metadata": {},
     "output_type": "execute_result"
    }
   ],
   "source": [
    "df = pd.read_csv(\"C:/Users/HEMANT/Downloads/NSE-TATAGLOBAL11.csv\")\n",
    "df.head()"
   ]
  },
  {
   "cell_type": "code",
   "execution_count": 3,
   "id": "ff857edb",
   "metadata": {},
   "outputs": [
    {
     "data": {
      "text/html": [
       "<div>\n",
       "<style scoped>\n",
       "    .dataframe tbody tr th:only-of-type {\n",
       "        vertical-align: middle;\n",
       "    }\n",
       "\n",
       "    .dataframe tbody tr th {\n",
       "        vertical-align: top;\n",
       "    }\n",
       "\n",
       "    .dataframe thead th {\n",
       "        text-align: right;\n",
       "    }\n",
       "</style>\n",
       "<table border=\"1\" class=\"dataframe\">\n",
       "  <thead>\n",
       "    <tr style=\"text-align: right;\">\n",
       "      <th></th>\n",
       "      <th>Date</th>\n",
       "      <th>Open</th>\n",
       "      <th>High</th>\n",
       "      <th>Low</th>\n",
       "      <th>Last</th>\n",
       "      <th>Close</th>\n",
       "      <th>Total Trade Quantity</th>\n",
       "      <th>Turnover (Lacs)</th>\n",
       "    </tr>\n",
       "  </thead>\n",
       "  <tbody>\n",
       "    <tr>\n",
       "      <th>1230</th>\n",
       "      <td>2013-10-14</td>\n",
       "      <td>160.85</td>\n",
       "      <td>161.45</td>\n",
       "      <td>157.70</td>\n",
       "      <td>159.3</td>\n",
       "      <td>159.45</td>\n",
       "      <td>1281419.0</td>\n",
       "      <td>2039.09</td>\n",
       "    </tr>\n",
       "    <tr>\n",
       "      <th>1231</th>\n",
       "      <td>2013-10-11</td>\n",
       "      <td>161.15</td>\n",
       "      <td>163.45</td>\n",
       "      <td>159.00</td>\n",
       "      <td>159.8</td>\n",
       "      <td>160.05</td>\n",
       "      <td>1880046.0</td>\n",
       "      <td>3030.76</td>\n",
       "    </tr>\n",
       "    <tr>\n",
       "      <th>1232</th>\n",
       "      <td>2013-10-10</td>\n",
       "      <td>156.00</td>\n",
       "      <td>160.80</td>\n",
       "      <td>155.85</td>\n",
       "      <td>160.3</td>\n",
       "      <td>160.15</td>\n",
       "      <td>3124853.0</td>\n",
       "      <td>4978.80</td>\n",
       "    </tr>\n",
       "    <tr>\n",
       "      <th>1233</th>\n",
       "      <td>2013-10-09</td>\n",
       "      <td>155.70</td>\n",
       "      <td>158.20</td>\n",
       "      <td>154.15</td>\n",
       "      <td>155.3</td>\n",
       "      <td>155.55</td>\n",
       "      <td>2049580.0</td>\n",
       "      <td>3204.49</td>\n",
       "    </tr>\n",
       "    <tr>\n",
       "      <th>1234</th>\n",
       "      <td>2013-10-08</td>\n",
       "      <td>157.00</td>\n",
       "      <td>157.80</td>\n",
       "      <td>155.20</td>\n",
       "      <td>155.8</td>\n",
       "      <td>155.80</td>\n",
       "      <td>1720413.0</td>\n",
       "      <td>2688.94</td>\n",
       "    </tr>\n",
       "  </tbody>\n",
       "</table>\n",
       "</div>"
      ],
      "text/plain": [
       "            Date    Open    High     Low   Last   Close  Total Trade Quantity  \\\n",
       "1230  2013-10-14  160.85  161.45  157.70  159.3  159.45             1281419.0   \n",
       "1231  2013-10-11  161.15  163.45  159.00  159.8  160.05             1880046.0   \n",
       "1232  2013-10-10  156.00  160.80  155.85  160.3  160.15             3124853.0   \n",
       "1233  2013-10-09  155.70  158.20  154.15  155.3  155.55             2049580.0   \n",
       "1234  2013-10-08  157.00  157.80  155.20  155.8  155.80             1720413.0   \n",
       "\n",
       "      Turnover (Lacs)  \n",
       "1230          2039.09  \n",
       "1231          3030.76  \n",
       "1232          4978.80  \n",
       "1233          3204.49  \n",
       "1234          2688.94  "
      ]
     },
     "execution_count": 3,
     "metadata": {},
     "output_type": "execute_result"
    }
   ],
   "source": [
    "df.tail()"
   ]
  },
  {
   "cell_type": "code",
   "execution_count": 4,
   "id": "97c4f029",
   "metadata": {},
   "outputs": [
    {
     "data": {
      "text/plain": [
       "Date                    0\n",
       "Open                    0\n",
       "High                    0\n",
       "Low                     0\n",
       "Last                    0\n",
       "Close                   0\n",
       "Total Trade Quantity    0\n",
       "Turnover (Lacs)         0\n",
       "dtype: int64"
      ]
     },
     "execution_count": 4,
     "metadata": {},
     "output_type": "execute_result"
    }
   ],
   "source": [
    "df.isnull().sum()"
   ]
  },
  {
   "cell_type": "code",
   "execution_count": 5,
   "id": "05df35a7",
   "metadata": {},
   "outputs": [],
   "source": [
    "stk=df.copy()"
   ]
  },
  {
   "cell_type": "code",
   "execution_count": 6,
   "id": "81b0b2ff",
   "metadata": {},
   "outputs": [
    {
     "data": {
      "text/plain": [
       "Index(['Date', 'Open', 'High', 'Low', 'Last', 'Close', 'Total Trade Quantity',\n",
       "       'Turnover (Lacs)'],\n",
       "      dtype='object')"
      ]
     },
     "execution_count": 6,
     "metadata": {},
     "output_type": "execute_result"
    }
   ],
   "source": [
    "stk.columns"
   ]
  },
  {
   "cell_type": "code",
   "execution_count": 7,
   "id": "a1ba84c4",
   "metadata": {},
   "outputs": [],
   "source": [
    "stk['Date']=pd.to_datetime(stk['Date'])"
   ]
  },
  {
   "cell_type": "code",
   "execution_count": 8,
   "id": "c6221416",
   "metadata": {},
   "outputs": [
    {
     "name": "stdout",
     "output_type": "stream",
     "text": [
      "<class 'pandas.core.frame.DataFrame'>\n",
      "RangeIndex: 1235 entries, 0 to 1234\n",
      "Data columns (total 8 columns):\n",
      " #   Column                Non-Null Count  Dtype         \n",
      "---  ------                --------------  -----         \n",
      " 0   Date                  1235 non-null   datetime64[ns]\n",
      " 1   Open                  1235 non-null   float64       \n",
      " 2   High                  1235 non-null   float64       \n",
      " 3   Low                   1235 non-null   float64       \n",
      " 4   Last                  1235 non-null   float64       \n",
      " 5   Close                 1235 non-null   float64       \n",
      " 6   Total Trade Quantity  1235 non-null   float64       \n",
      " 7   Turnover (Lacs)       1235 non-null   float64       \n",
      "dtypes: datetime64[ns](1), float64(7)\n",
      "memory usage: 77.3 KB\n"
     ]
    }
   ],
   "source": [
    "stk.info()"
   ]
  },
  {
   "cell_type": "code",
   "execution_count": 9,
   "id": "064d7dfd",
   "metadata": {},
   "outputs": [
    {
     "data": {
      "text/html": [
       "<div>\n",
       "<style scoped>\n",
       "    .dataframe tbody tr th:only-of-type {\n",
       "        vertical-align: middle;\n",
       "    }\n",
       "\n",
       "    .dataframe tbody tr th {\n",
       "        vertical-align: top;\n",
       "    }\n",
       "\n",
       "    .dataframe thead th {\n",
       "        text-align: right;\n",
       "    }\n",
       "</style>\n",
       "<table border=\"1\" class=\"dataframe\">\n",
       "  <thead>\n",
       "    <tr style=\"text-align: right;\">\n",
       "      <th></th>\n",
       "      <th>Date</th>\n",
       "      <th>Open</th>\n",
       "      <th>High</th>\n",
       "      <th>Low</th>\n",
       "      <th>Last</th>\n",
       "      <th>Close</th>\n",
       "      <th>Total Trade Quantity</th>\n",
       "      <th>Turnover (Lacs)</th>\n",
       "    </tr>\n",
       "  </thead>\n",
       "  <tbody>\n",
       "    <tr>\n",
       "      <th>0</th>\n",
       "      <td>2018-10-08</td>\n",
       "      <td>208.00</td>\n",
       "      <td>222.25</td>\n",
       "      <td>206.85</td>\n",
       "      <td>216.00</td>\n",
       "      <td>215.15</td>\n",
       "      <td>4642146.0</td>\n",
       "      <td>10062.83</td>\n",
       "    </tr>\n",
       "    <tr>\n",
       "      <th>1</th>\n",
       "      <td>2018-10-05</td>\n",
       "      <td>217.00</td>\n",
       "      <td>218.60</td>\n",
       "      <td>205.90</td>\n",
       "      <td>210.25</td>\n",
       "      <td>209.20</td>\n",
       "      <td>3519515.0</td>\n",
       "      <td>7407.06</td>\n",
       "    </tr>\n",
       "    <tr>\n",
       "      <th>2</th>\n",
       "      <td>2018-10-04</td>\n",
       "      <td>223.50</td>\n",
       "      <td>227.80</td>\n",
       "      <td>216.15</td>\n",
       "      <td>217.25</td>\n",
       "      <td>218.20</td>\n",
       "      <td>1728786.0</td>\n",
       "      <td>3815.79</td>\n",
       "    </tr>\n",
       "    <tr>\n",
       "      <th>3</th>\n",
       "      <td>2018-10-03</td>\n",
       "      <td>230.00</td>\n",
       "      <td>237.50</td>\n",
       "      <td>225.75</td>\n",
       "      <td>226.45</td>\n",
       "      <td>227.60</td>\n",
       "      <td>1708590.0</td>\n",
       "      <td>3960.27</td>\n",
       "    </tr>\n",
       "    <tr>\n",
       "      <th>4</th>\n",
       "      <td>2018-10-01</td>\n",
       "      <td>234.55</td>\n",
       "      <td>234.60</td>\n",
       "      <td>221.05</td>\n",
       "      <td>230.30</td>\n",
       "      <td>230.90</td>\n",
       "      <td>1534749.0</td>\n",
       "      <td>3486.05</td>\n",
       "    </tr>\n",
       "  </tbody>\n",
       "</table>\n",
       "</div>"
      ],
      "text/plain": [
       "        Date    Open    High     Low    Last   Close  Total Trade Quantity  \\\n",
       "0 2018-10-08  208.00  222.25  206.85  216.00  215.15             4642146.0   \n",
       "1 2018-10-05  217.00  218.60  205.90  210.25  209.20             3519515.0   \n",
       "2 2018-10-04  223.50  227.80  216.15  217.25  218.20             1728786.0   \n",
       "3 2018-10-03  230.00  237.50  225.75  226.45  227.60             1708590.0   \n",
       "4 2018-10-01  234.55  234.60  221.05  230.30  230.90             1534749.0   \n",
       "\n",
       "   Turnover (Lacs)  \n",
       "0         10062.83  \n",
       "1          7407.06  \n",
       "2          3815.79  \n",
       "3          3960.27  \n",
       "4          3486.05  "
      ]
     },
     "execution_count": 9,
     "metadata": {},
     "output_type": "execute_result"
    }
   ],
   "source": [
    "stk.head()"
   ]
  },
  {
   "cell_type": "code",
   "execution_count": 10,
   "id": "9feb3194",
   "metadata": {},
   "outputs": [
    {
     "data": {
      "text/plain": [
       "Timestamp('2013-10-08 00:00:00')"
      ]
     },
     "execution_count": 10,
     "metadata": {},
     "output_type": "execute_result"
    }
   ],
   "source": [
    "stk['Date'].min()"
   ]
  },
  {
   "cell_type": "code",
   "execution_count": 11,
   "id": "b55bd3d6",
   "metadata": {},
   "outputs": [
    {
     "data": {
      "text/plain": [
       "Timestamp('2018-10-08 00:00:00')"
      ]
     },
     "execution_count": 11,
     "metadata": {},
     "output_type": "execute_result"
    }
   ],
   "source": [
    "stk['Date'].max()"
   ]
  },
  {
   "cell_type": "code",
   "execution_count": 12,
   "id": "48738b89",
   "metadata": {},
   "outputs": [
    {
     "data": {
      "text/html": [
       "<div>\n",
       "<style scoped>\n",
       "    .dataframe tbody tr th:only-of-type {\n",
       "        vertical-align: middle;\n",
       "    }\n",
       "\n",
       "    .dataframe tbody tr th {\n",
       "        vertical-align: top;\n",
       "    }\n",
       "\n",
       "    .dataframe thead th {\n",
       "        text-align: right;\n",
       "    }\n",
       "</style>\n",
       "<table border=\"1\" class=\"dataframe\">\n",
       "  <thead>\n",
       "    <tr style=\"text-align: right;\">\n",
       "      <th></th>\n",
       "      <th>Date</th>\n",
       "      <th>Open</th>\n",
       "      <th>High</th>\n",
       "      <th>Low</th>\n",
       "      <th>Last</th>\n",
       "      <th>Close</th>\n",
       "      <th>Total Trade Quantity</th>\n",
       "      <th>Turnover (Lacs)</th>\n",
       "      <th>Month Year</th>\n",
       "      <th>Year</th>\n",
       "    </tr>\n",
       "  </thead>\n",
       "  <tbody>\n",
       "    <tr>\n",
       "      <th>0</th>\n",
       "      <td>2018-10-08</td>\n",
       "      <td>208.00</td>\n",
       "      <td>222.25</td>\n",
       "      <td>206.85</td>\n",
       "      <td>216.00</td>\n",
       "      <td>215.15</td>\n",
       "      <td>4642146.0</td>\n",
       "      <td>10062.83</td>\n",
       "      <td>18-10</td>\n",
       "      <td>18</td>\n",
       "    </tr>\n",
       "    <tr>\n",
       "      <th>1</th>\n",
       "      <td>2018-10-05</td>\n",
       "      <td>217.00</td>\n",
       "      <td>218.60</td>\n",
       "      <td>205.90</td>\n",
       "      <td>210.25</td>\n",
       "      <td>209.20</td>\n",
       "      <td>3519515.0</td>\n",
       "      <td>7407.06</td>\n",
       "      <td>18-10</td>\n",
       "      <td>18</td>\n",
       "    </tr>\n",
       "    <tr>\n",
       "      <th>2</th>\n",
       "      <td>2018-10-04</td>\n",
       "      <td>223.50</td>\n",
       "      <td>227.80</td>\n",
       "      <td>216.15</td>\n",
       "      <td>217.25</td>\n",
       "      <td>218.20</td>\n",
       "      <td>1728786.0</td>\n",
       "      <td>3815.79</td>\n",
       "      <td>18-10</td>\n",
       "      <td>18</td>\n",
       "    </tr>\n",
       "    <tr>\n",
       "      <th>3</th>\n",
       "      <td>2018-10-03</td>\n",
       "      <td>230.00</td>\n",
       "      <td>237.50</td>\n",
       "      <td>225.75</td>\n",
       "      <td>226.45</td>\n",
       "      <td>227.60</td>\n",
       "      <td>1708590.0</td>\n",
       "      <td>3960.27</td>\n",
       "      <td>18-10</td>\n",
       "      <td>18</td>\n",
       "    </tr>\n",
       "    <tr>\n",
       "      <th>4</th>\n",
       "      <td>2018-10-01</td>\n",
       "      <td>234.55</td>\n",
       "      <td>234.60</td>\n",
       "      <td>221.05</td>\n",
       "      <td>230.30</td>\n",
       "      <td>230.90</td>\n",
       "      <td>1534749.0</td>\n",
       "      <td>3486.05</td>\n",
       "      <td>18-10</td>\n",
       "      <td>18</td>\n",
       "    </tr>\n",
       "  </tbody>\n",
       "</table>\n",
       "</div>"
      ],
      "text/plain": [
       "        Date    Open    High     Low    Last   Close  Total Trade Quantity  \\\n",
       "0 2018-10-08  208.00  222.25  206.85  216.00  215.15             4642146.0   \n",
       "1 2018-10-05  217.00  218.60  205.90  210.25  209.20             3519515.0   \n",
       "2 2018-10-04  223.50  227.80  216.15  217.25  218.20             1728786.0   \n",
       "3 2018-10-03  230.00  237.50  225.75  226.45  227.60             1708590.0   \n",
       "4 2018-10-01  234.55  234.60  221.05  230.30  230.90             1534749.0   \n",
       "\n",
       "   Turnover (Lacs) Month Year Year  \n",
       "0         10062.83      18-10   18  \n",
       "1          7407.06      18-10   18  \n",
       "2          3815.79      18-10   18  \n",
       "3          3960.27      18-10   18  \n",
       "4          3486.05      18-10   18  "
      ]
     },
     "execution_count": 12,
     "metadata": {},
     "output_type": "execute_result"
    }
   ],
   "source": [
    "stk['Month Year'] = stk['Date'].apply(lambda x: x.strftime ('%y-%m'))\n",
    "stk['Year'] = stk['Date'].apply(lambda x: x.strftime ('%y'))\n",
    "stk.head()"
   ]
  },
  {
   "cell_type": "code",
   "execution_count": 13,
   "id": "23037fce",
   "metadata": {},
   "outputs": [
    {
     "data": {
      "image/png": "[encoded data removed]",
      "text/plain": [
       "<Figure size 1800x360 with 1 Axes>"
      ]
     },
     "metadata": {
      "needs_background": "light"
     },
     "output_type": "display_data"
    }
   ],
   "source": [
    "a = stk.groupby('Month Year')['Close'].mean()\n",
    "plt.figure(figsize=(25,5))\n",
    "plt.plot(a, color = 'blue')\n",
    "plt.xticks(rotation = 'vertical')\n",
    "plt.show()"
   ]
  },
  {
   "cell_type": "code",
   "execution_count": 14,
   "id": "a614d586",
   "metadata": {},
   "outputs": [
    {
     "data": {
      "image/png": "[encoded data removed]",
      "text/plain": [
       "<Figure size 432x288 with 1 Axes>"
      ]
     },
     "metadata": {},
     "output_type": "display_data"
    }
   ],
   "source": [
    "pc = stk[['Year', 'Total Trade Quantity']]\n",
    "grp_pc = pc.groupby('Year')['Total Trade Quantity'].mean().sort_values(ascending = False).reset_index()\n",
    "plt.pie(grp_pc['Total Trade Quantity'], labels=grp_pc['Year'])\n",
    "plt.show()"
   ]
  },
  {
   "cell_type": "code",
   "execution_count": 15,
   "id": "e5f4c205",
   "metadata": {},
   "outputs": [
    {
     "data": {
      "image/png": "[encoded data removed]",
      "text/plain": [
       "<Figure size 432x288 with 1 Axes>"
      ]
     },
     "metadata": {
      "needs_background": "light"
     },
     "output_type": "display_data"
    }
   ],
   "source": [
    "trd = stk[['Year','Turnover (Lacs)']]\n",
    "a = trd.groupby('Year')['Turnover (Lacs)'].mean().sort_values(ascending = False).reset_index()\n",
    "sns.barplot(a['Year'], a['Turnover (Lacs)'])\n",
    "plt.show()"
   ]
  },
  {
   "cell_type": "code",
   "execution_count": 16,
   "id": "fa431b69",
   "metadata": {},
   "outputs": [
    {
     "data": {
      "image/png": "[encoded data removed]",
      "text/plain": [
       "<Figure size 720x504 with 2 Axes>"
      ]
     },
     "metadata": {
      "needs_background": "light"
     },
     "output_type": "display_data"
    }
   ],
   "source": [
    "plt.figure(figsize = (10,7))\n",
    "sns.heatmap(stk.corr(), annot = True, cmap = 'YlGnBu')\n",
    "plt.show()"
   ]
  },
  {
   "cell_type": "code",
   "execution_count": 17,
   "id": "0f0425bd",
   "metadata": {},
   "outputs": [
    {
     "data": {
      "text/plain": [
       "Index(['Date', 'Open', 'High', 'Low', 'Last', 'Close', 'Total Trade Quantity',\n",
       "       'Turnover (Lacs)', 'Month Year', 'Year'],\n",
       "      dtype='object')"
      ]
     },
     "execution_count": 17,
     "metadata": {},
     "output_type": "execute_result"
    }
   ],
   "source": [
    "stk.columns"
   ]
  },
  {
   "cell_type": "code",
   "execution_count": 18,
   "id": "04ee78a3",
   "metadata": {},
   "outputs": [],
   "source": [
    "x = stk[['Close', 'Total Trade Quantity']]\n",
    "y = stk['Turnover (Lacs)']"
   ]
  },
  {
   "cell_type": "code",
   "execution_count": 19,
   "id": "1be67d04",
   "metadata": {},
   "outputs": [
    {
     "data": {
      "text/html": [
       "<div>\n",
       "<style scoped>\n",
       "    .dataframe tbody tr th:only-of-type {\n",
       "        vertical-align: middle;\n",
       "    }\n",
       "\n",
       "    .dataframe tbody tr th {\n",
       "        vertical-align: top;\n",
       "    }\n",
       "\n",
       "    .dataframe thead th {\n",
       "        text-align: right;\n",
       "    }\n",
       "</style>\n",
       "<table border=\"1\" class=\"dataframe\">\n",
       "  <thead>\n",
       "    <tr style=\"text-align: right;\">\n",
       "      <th></th>\n",
       "      <th>Close</th>\n",
       "      <th>Total Trade Quantity</th>\n",
       "    </tr>\n",
       "  </thead>\n",
       "  <tbody>\n",
       "    <tr>\n",
       "      <th>0</th>\n",
       "      <td>215.15</td>\n",
       "      <td>4642146.0</td>\n",
       "    </tr>\n",
       "    <tr>\n",
       "      <th>1</th>\n",
       "      <td>209.20</td>\n",
       "      <td>3519515.0</td>\n",
       "    </tr>\n",
       "    <tr>\n",
       "      <th>2</th>\n",
       "      <td>218.20</td>\n",
       "      <td>1728786.0</td>\n",
       "    </tr>\n",
       "    <tr>\n",
       "      <th>3</th>\n",
       "      <td>227.60</td>\n",
       "      <td>1708590.0</td>\n",
       "    </tr>\n",
       "    <tr>\n",
       "      <th>4</th>\n",
       "      <td>230.90</td>\n",
       "      <td>1534749.0</td>\n",
       "    </tr>\n",
       "  </tbody>\n",
       "</table>\n",
       "</div>"
      ],
      "text/plain": [
       "    Close  Total Trade Quantity\n",
       "0  215.15             4642146.0\n",
       "1  209.20             3519515.0\n",
       "2  218.20             1728786.0\n",
       "3  227.60             1708590.0\n",
       "4  230.90             1534749.0"
      ]
     },
     "execution_count": 19,
     "metadata": {},
     "output_type": "execute_result"
    }
   ],
   "source": [
    "x.head()"
   ]
  },
  {
   "cell_type": "code",
   "execution_count": 20,
   "id": "8bc5ff70",
   "metadata": {},
   "outputs": [
    {
     "data": {
      "text/plain": [
       "0    10062.83\n",
       "1     7407.06\n",
       "2     3815.79\n",
       "3     3960.27\n",
       "4     3486.05\n",
       "Name: Turnover (Lacs), dtype: float64"
      ]
     },
     "execution_count": 20,
     "metadata": {},
     "output_type": "execute_result"
    }
   ],
   "source": [
    "y.head()"
   ]
  },
  {
   "cell_type": "code",
   "execution_count": 21,
   "id": "188e484f",
   "metadata": {},
   "outputs": [],
   "source": [
    "X_train, X_test, y_train, y_test = train_test_split(x,y, test_size = 0.3, random_state = 0)"
   ]
  },
  {
   "cell_type": "code",
   "execution_count": 22,
   "id": "3446209f",
   "metadata": {},
   "outputs": [],
   "source": [
    "lr=LinearRegression()"
   ]
  },
  {
   "cell_type": "code",
   "execution_count": 23,
   "id": "80c5b5d8",
   "metadata": {},
   "outputs": [
    {
     "data": {
      "text/plain": [
       "LinearRegression()"
      ]
     },
     "execution_count": 23,
     "metadata": {},
     "output_type": "execute_result"
    }
   ],
   "source": [
    "lr.fit(X_train, y_train)"
   ]
  },
  {
   "cell_type": "code",
   "execution_count": 24,
   "id": "371a8e74",
   "metadata": {},
   "outputs": [
    {
     "data": {
      "text/plain": [
       "((864, 2), (371, 2))"
      ]
     },
     "execution_count": 24,
     "metadata": {},
     "output_type": "execute_result"
    }
   ],
   "source": [
    "X_train.shape, X_test.shape"
   ]
  },
  {
   "cell_type": "code",
   "execution_count": 25,
   "id": "df21a725",
   "metadata": {},
   "outputs": [
    {
     "data": {
      "text/plain": [
       "array([ 2.72269701e+03,  1.78672079e+03,  7.32520507e+03,  3.44354863e+04,\n",
       "        1.65146786e+04,  5.11962056e+02,  2.02045298e+04,  1.55698388e+03,\n",
       "        3.48791100e+03,  1.14450291e+03,  2.08368488e+03,  1.06809534e+04,\n",
       "        7.00763385e+03,  7.78279381e+03,  6.82305838e+03,  8.42467677e+02,\n",
       "        1.43498507e+03,  1.58678810e+03,  3.37145509e+03,  3.61808643e+03,\n",
       "        1.06004751e+04,  3.47277563e+03,  2.61175206e+03,  1.26742207e+03,\n",
       "        2.92738254e+01,  2.04720594e+04,  4.61222467e+03,  6.54237102e+02,\n",
       "        8.30492686e+03,  5.50351234e+03,  1.20389692e+03,  1.27820603e+04,\n",
       "        2.76917506e+03,  9.93703955e+03,  1.00810712e+03,  4.49649235e+03,\n",
       "        1.72190019e+03,  2.02600993e+03,  3.22825861e+03,  5.61694981e+03,\n",
       "        1.01276210e+04,  1.68485169e+03,  4.40738998e+03,  7.01636588e+03,\n",
       "        2.56182278e+03,  4.42592803e+02,  2.47412493e+03,  2.81040637e+03,\n",
       "        2.80319826e+03,  1.12423615e+03,  3.73550746e+03,  6.32643529e+03,\n",
       "        8.28509892e+03,  8.20690363e+02,  1.80929573e+03,  2.06219593e+03,\n",
       "        9.25686421e+02,  1.27992544e+03,  1.11476808e+03,  9.74202340e+03,\n",
       "        2.10509562e+03, -1.50235325e+02,  5.46829859e+02,  7.78226240e+02,\n",
       "        2.31702518e+03,  1.57039774e+04,  1.01085869e+03,  2.14506223e+03,\n",
       "        1.45906757e+03,  1.53947896e+04,  8.97409018e+02,  1.97896641e+03,\n",
       "        5.06045668e+03,  1.94460741e+03,  1.02307118e+04,  2.84200499e+03,\n",
       "        1.15178149e+04,  1.72674895e+04,  4.87393475e+03,  1.78510202e+04,\n",
       "        8.40416837e+03,  2.32563701e+03,  2.68203285e+03,  1.23395756e+04,\n",
       "        1.42303562e+03, -1.03626813e+02,  1.92117918e+03,  1.11198491e+04,\n",
       "        1.19065966e+04,  3.06982413e+03,  5.66864469e+03,  3.50613931e+03,\n",
       "        1.10515394e+03,  1.60544797e+03,  7.16369619e+03,  8.07205596e+02,\n",
       "        6.50060343e+03,  8.56972341e+03,  8.21575239e+03,  2.16011720e+03,\n",
       "        4.74200453e+03,  9.49857980e+03,  2.28050428e+03,  3.26554645e+03,\n",
       "        9.51921443e+03,  3.19763553e+03,  5.29293235e+01,  5.41579485e+03,\n",
       "        7.19809504e+03,  7.42348950e+03,  9.80612376e+03, -4.39531733e+02,\n",
       "        5.00712993e+03,  5.92453540e+03,  1.07341960e+03,  9.18914419e+03,\n",
       "        3.67500454e+03,  8.31392214e+02,  1.59241269e+03,  1.86104649e+03,\n",
       "        1.23753056e+04,  2.65338643e+03,  4.07078452e+02,  3.13858925e+03,\n",
       "        3.66770340e+03, -4.29200781e+02,  3.37372965e+02,  9.80898743e+02,\n",
       "        1.58452994e+03,  1.99122220e+02,  1.78382027e+03,  1.40191731e+03,\n",
       "        1.04105936e+03,  8.20478616e+03,  7.21105569e+03,  3.92372700e+03,\n",
       "        3.83481941e+03,  5.60788767e+03,  5.50759776e+03,  5.72758905e+03,\n",
       "       -2.30272359e+02,  6.43097314e+03,  6.93192820e+03,  2.95347009e+03,\n",
       "        5.99537722e+03,  3.41408035e+04,  1.17777893e+03,  1.96964136e+03,\n",
       "        1.32428040e+03,  7.28880436e+03,  1.15947277e+04,  1.08677761e+04,\n",
       "        1.08388445e+04,  9.05343269e+03,  2.46248967e+03, -5.80969996e+02,\n",
       "        4.24958125e+03,  1.75994175e+03,  1.21576023e+04,  3.96343306e+03,\n",
       "        5.28774141e+02,  3.13411179e+03,  6.08192801e+03,  1.17883521e+04,\n",
       "        7.64588288e+03,  5.19487916e+03,  2.03615679e+03,  1.46309041e+04,\n",
       "        1.20880772e+03,  6.95369639e+03, -3.83060546e+02,  6.19121443e+03,\n",
       "        2.22335933e+03,  7.27165345e+03,  6.15689860e+03,  6.50694515e+03,\n",
       "        1.47484824e+04,  1.38428463e+03,  8.67391358e+02,  1.44686122e+03,\n",
       "        5.31948406e+03,  7.86939719e+03,  1.88847772e+03,  1.32379294e+03,\n",
       "        5.25441339e+03,  4.84157143e+03,  3.00310518e+03,  2.32662360e+04,\n",
       "        4.59357946e+03,  1.03976563e+04,  2.71855090e+04,  2.31585896e+04,\n",
       "        3.04682577e+03,  3.29527705e+03,  1.23845687e+04,  4.16439008e+02,\n",
       "        3.69393894e+03,  6.80477832e+03,  1.96256496e+03,  6.91262737e+03,\n",
       "        7.61636688e+03,  4.95200657e+03,  1.97256410e+03,  6.75520101e+03,\n",
       "        9.75152498e+03,  3.81140693e+03,  2.35434211e+03,  2.64994798e+03,\n",
       "       -4.60207798e+02,  1.31129503e+04,  1.45465209e+04,  5.17808526e+03,\n",
       "        8.25057805e+02,  6.48099024e+03, -3.51771261e+02,  1.13844709e+03,\n",
       "        1.17170242e+04,  3.96177232e+03,  7.27166407e+03,  9.54747548e+03,\n",
       "        1.32360906e+04,  4.71664899e+02,  4.65896231e+03,  5.30441515e+03,\n",
       "        7.91699332e+03,  3.88252652e+03,  8.93656188e+03,  6.23732852e+03,\n",
       "        2.82116588e+03,  1.90441049e+03,  1.72795763e+03,  8.25050088e+01,\n",
       "        3.59695338e+03,  1.07805234e+02,  2.68576237e+03,  1.62248266e+03,\n",
       "        4.60286920e+03,  9.17259961e+02,  4.31239211e+03,  8.66457796e+03,\n",
       "        6.57207832e+03,  1.96595496e+03,  1.17993240e+04,  4.90593126e+03,\n",
       "        7.74236994e+03,  1.71469395e+03,  2.63395416e+02,  1.13785053e+04,\n",
       "        4.03108773e+03,  4.16019827e+03,  1.11370283e+03,  6.71304026e+03,\n",
       "        3.26139155e+02,  1.46968006e+02,  1.64232403e+04,  3.13490745e+03,\n",
       "        1.22535428e+03,  1.84919936e+03,  1.45287361e+03,  2.42592765e+03,\n",
       "        5.29504586e+03,  1.46445184e+03, -7.38733097e+02,  7.08876267e+03,\n",
       "        3.35013642e+03,  6.81958626e+03,  3.62506391e+03,  1.88156044e+03,\n",
       "        4.98490317e+03,  1.04675208e+04,  1.46017738e+03,  2.35171035e+03,\n",
       "        4.13927841e+02,  4.36378071e+03,  8.94508487e+03,  3.35678011e+03,\n",
       "        3.35131150e+03,  5.10622813e+03,  4.39700919e+03,  8.39425969e+03,\n",
       "        9.56453168e+02,  3.23937133e+03,  4.60739218e+03,  7.22221158e+03,\n",
       "        1.26027287e+03,  5.43100987e+03,  4.70036477e+03,  1.99858963e+03,\n",
       "        1.77273287e+03,  1.86919969e+03,  9.49418651e+03,  4.61432677e+03,\n",
       "       -2.99286308e+02,  8.90336581e+02,  9.42813184e+02, -1.62019830e+02,\n",
       "       -7.60879885e+02,  1.08830425e+04,  6.56971753e+03,  6.67576777e+03,\n",
       "        2.41676260e+03,  3.18598971e+03,  4.85771238e+03,  9.01453667e+03,\n",
       "        1.27226417e+04,  1.49536285e+03,  8.18708747e+03,  6.33846052e+03,\n",
       "        1.27121474e+03,  6.70232716e+03,  3.34481382e+03,  5.44028081e+03,\n",
       "       -3.64840290e+02,  3.29801351e+03,  2.63779614e+03,  1.33813117e+04,\n",
       "        8.41433083e+03,  1.22238358e+04,  3.63975559e+04,  1.24117851e+03,\n",
       "        5.08304284e+03,  6.50129277e+03,  1.04042077e+03,  5.71884426e+02,\n",
       "        1.47980222e+04,  9.30623728e+02,  4.93446498e+03,  9.20156606e+03,\n",
       "        5.68565218e+03,  1.70023302e+03,  1.52561094e+03, -4.61395158e+02,\n",
       "        1.47885480e+04,  1.88622743e+03,  2.19490459e+03,  1.78538136e+03,\n",
       "        5.69919031e+02,  2.98074904e+03,  7.54614197e+02,  6.56314603e+03,\n",
       "        1.37682554e+03,  1.97017631e+03,  7.70019189e+03, -4.46430849e+02,\n",
       "        1.82772858e+03,  1.54966891e+03,  1.22146643e+04,  3.18805688e+03,\n",
       "        1.76005610e+03,  3.00833107e+04, -5.08234525e+02,  8.81592494e+03,\n",
       "        3.48105791e+03,  1.70869639e+03,  1.06810056e+04,  1.42120562e+03,\n",
       "        1.89793770e+04,  3.64134330e+03, -4.43339412e+02,  2.48368148e+03,\n",
       "        2.71188102e+03,  7.59452121e+03,  6.65814041e+02,  4.69325934e+02,\n",
       "        3.01041056e+03,  1.36261885e+03,  4.84869192e+03,  2.43674128e+03,\n",
       "       -3.58510131e+02,  7.23556199e+03,  1.25687518e+04, -7.78391588e+01,\n",
       "        5.76234762e+03,  1.14509245e+03,  3.64531451e+03,  1.77187323e+04,\n",
       "       -1.42772356e+03,  7.61338276e+03,  8.47751864e+03,  3.79165113e+03,\n",
       "        1.29675712e+03,  5.94098063e+02,  2.71925278e+03,  1.50966056e+04,\n",
       "        6.68126524e+03,  4.04570806e+03, -4.35347307e+00,  3.49417742e+03,\n",
       "        1.03651795e+04,  2.89390855e+03,  7.64570354e+02,  1.01096174e+03,\n",
       "        2.34592808e+03,  1.35019490e+03,  3.83788888e+03,  8.18922854e+03,\n",
       "        1.80118087e+03,  5.10333608e+03,  1.23794037e+03,  7.41490950e+03,\n",
       "        1.79990159e+03,  6.26048432e+03,  5.87405049e+03,  5.63538408e+03,\n",
       "        8.13979259e+02,  3.98322308e+03,  7.20397461e+03,  3.81449930e+02,\n",
       "        5.29852264e+03,  5.03692485e+03,  5.67721805e+03,  2.76859266e+03,\n",
       "        5.63052914e+03,  2.33884920e+03,  3.95048848e+03,  2.01988819e+03,\n",
       "        1.76493111e+03,  1.24212335e+03,  5.90442745e+03, -2.27413347e+02,\n",
       "        6.26586059e+03,  4.68103100e+03,  1.68879294e+03,  2.85704805e+03,\n",
       "        8.30832692e+02,  2.36101700e+03,  4.74015064e+03,  5.58971829e+03,\n",
       "        2.53567390e+03,  3.54424782e+03,  2.28946005e+02,  1.75210637e+04,\n",
       "        1.11730328e+03,  3.37476748e+03,  1.57306498e+04,  8.40141964e+02,\n",
       "        2.46812803e+04,  7.89645558e+03,  2.94972454e+03,  6.69989926e+03,\n",
       "        1.81045490e+03, -4.40890047e+01,  8.46417662e+03, -1.24935347e+02,\n",
       "        3.84001560e+03,  1.07690715e+04,  4.75354590e+02,  1.00343606e+04,\n",
       "        2.80134043e+03,  7.60748941e+03,  8.01481490e+03,  5.06852981e+02,\n",
       "        1.28379663e+04,  3.83101412e+03,  4.89633330e+03,  7.19274649e+02,\n",
       "        4.04688071e+03,  7.33311121e+03,  7.99297584e+03,  6.78278686e+03,\n",
       "        7.35992516e+03,  6.01408191e+01,  1.45796202e+03,  2.26551225e+03,\n",
       "        9.68805157e+03,  4.62929574e+03,  6.01876848e+03,  1.21035689e+04,\n",
       "        2.31545706e+03,  1.07005566e+04,  2.82591180e+03,  5.23732002e+03,\n",
       "        3.30920369e+03,  1.60037061e+03,  7.49594419e+03,  8.39857865e+03,\n",
       "        1.61209254e+03,  2.40773948e+03,  1.34076911e+04,  5.57864500e+03,\n",
       "        5.01621457e+03,  1.18572520e+03,  5.48517703e+03, -3.66281372e+01,\n",
       "        2.61486152e+03,  3.24673551e+04,  1.16732505e+04,  2.05462309e+03,\n",
       "        9.01023187e+03,  1.43074949e+03,  1.35401575e+03,  2.72401610e+03,\n",
       "        2.24092523e+03,  1.43038383e+03,  3.54525817e+03,  2.74303379e+03,\n",
       "        1.99500662e+03,  8.71774241e+01,  1.95734730e+03,  4.38739686e+03,\n",
       "        6.32100160e+03,  6.54294942e+02,  1.90106296e+03, -1.30726051e+02,\n",
       "        1.46766419e+03,  6.39465151e+03,  3.44600066e+02,  1.23500284e+03,\n",
       "        9.18058149e+03,  1.27029185e+03,  4.53535635e+03, -1.87485654e+02,\n",
       "        1.92117608e+04,  4.07806559e+02,  1.37189095e+03,  5.77487100e+03,\n",
       "        5.23983916e+03,  2.34392486e+03,  1.70302929e+03,  8.39584929e+03,\n",
       "        4.64670491e+03,  9.07658091e+03,  2.78203967e+03,  4.91577496e+03,\n",
       "        1.44265141e+03,  1.76316568e+03,  1.79323022e+03,  2.52306379e+03,\n",
       "        4.90762288e+02,  8.87895896e+02,  4.00172357e+03,  7.58759197e+03,\n",
       "        3.10515480e+03,  2.15672354e+03,  3.16759364e+03,  4.75157361e+03,\n",
       "        3.06650433e+03,  1.61814411e+04,  7.15766216e+03,  1.12755120e+03,\n",
       "       -5.59433299e+02,  2.13651143e+04,  1.20675399e+03,  5.37224544e+03,\n",
       "        4.48098709e+03,  1.68712667e+03,  1.10382761e+03,  9.27965147e+03,\n",
       "        2.49558047e+03,  3.00493685e+03,  1.42256247e+03,  3.73545657e+02,\n",
       "        1.73300271e+03, -6.98991375e+02, -4.36932851e+02,  8.20308593e+03,\n",
       "        1.20066101e+04,  5.36475710e+03,  3.35102788e+03,  7.77926728e+03,\n",
       "        1.89554251e+04,  7.77335851e+03,  3.18581829e+03,  9.71775879e+01,\n",
       "        2.66112712e+03,  2.07575472e+04,  1.20895763e+02, -1.49549494e+02,\n",
       "        8.52234475e+02,  1.64018009e+03,  2.14456337e+03,  7.12290202e+03,\n",
       "       -5.23470734e+02,  1.76783386e+03,  7.98427941e+03,  2.84710818e+03,\n",
       "        6.90118991e+02, -5.82940671e+02,  1.21940877e+04,  1.22698273e+04,\n",
       "        1.55044373e+03,  4.36701228e+02,  1.72140548e+03,  4.44214453e+03,\n",
       "        5.33109905e+03,  5.15813279e+03,  2.79946753e+03,  7.45889630e+03,\n",
       "        8.00652105e+03,  1.29673458e+04,  6.33658260e+02,  3.76058403e+03,\n",
       "       -8.43850693e+01,  1.67592143e+04,  5.85209204e+03,  8.07776713e+03,\n",
       "        7.16070472e+03,  2.03477072e+03,  1.23290927e+03,  2.68122739e+02,\n",
       "        3.90962094e+03,  1.06970607e+03,  1.82752690e+03,  1.73352857e+03,\n",
       "        4.23444184e+03,  3.73222665e+03,  3.30802068e+03,  6.43824509e+02,\n",
       "        3.58477695e+03,  1.06731360e+04,  4.03225673e+03,  8.34456814e+02,\n",
       "        6.54524701e+03,  2.85676687e+04,  2.67877866e+03,  1.42905458e+03,\n",
       "        3.02794996e+03, -1.93880139e+02,  1.46815358e+03,  6.05393658e+03,\n",
       "       -2.04044594e+01,  4.29986542e+03,  8.41108479e+03,  3.49242457e+03,\n",
       "        9.46479349e+03,  1.73572637e+03,  9.89732506e+03,  1.67964950e+03,\n",
       "        3.54327356e+03,  2.85385491e+03,  1.96584953e+03,  4.32264465e+03,\n",
       "        1.31616491e+04,  6.91061619e+03,  1.15677866e+03,  1.49555526e+03,\n",
       "        2.56639024e+03,  3.82573855e+04,  2.36813909e+03,  1.60716167e+04,\n",
       "        4.80018608e+03,  9.18150434e+02,  4.65188593e+03,  3.02673943e+02,\n",
       "        6.31797558e+03,  6.83467778e+02,  2.30820771e+03,  1.79666940e+03,\n",
       "        5.87081516e+03,  5.60207543e+03,  1.04623779e+04,  1.85304284e+03,\n",
       "        3.64425764e+03,  1.40921784e+04,  7.93650587e+03,  3.16844462e+03,\n",
       "        1.61709829e+04,  6.99364965e+03,  8.07795496e+03,  5.12207112e+03,\n",
       "        2.04741256e+04,  4.17394242e+03,  5.57959291e+03,  5.20642080e+03,\n",
       "        1.17944212e+04,  2.55772948e+03,  6.80007558e+03,  1.54379896e+03,\n",
       "        1.22871073e+04,  2.34991465e+03,  9.16537951e+03,  1.15207809e+03,\n",
       "        3.11407856e+03,  1.65826539e+03,  1.84373948e+02,  1.66303895e+03,\n",
       "        7.41038822e+03,  9.08691977e+03,  7.12864034e+02,  2.57797461e+03,\n",
       "        2.47255222e+03,  5.19319766e+03,  2.34711756e+03, -2.38654247e+02,\n",
       "        3.21407866e+03,  1.33988236e+03,  2.59667189e+04,  5.55015144e+03,\n",
       "        7.46377792e+03,  3.49712488e+02,  2.85192424e+03,  1.16716319e+03,\n",
       "        1.55929052e+03,  3.91838425e+03,  1.91902983e+04,  6.37474630e+03,\n",
       "        3.23934620e+02,  1.15107046e+04,  5.41737399e+03,  1.28328493e+04,\n",
       "        4.35365363e+02, -7.26315671e+02,  1.31801636e+04,  1.62860187e+04,\n",
       "        3.46880664e+03,  1.27201701e+04,  1.50059134e+04,  8.30947644e+03,\n",
       "       -9.07203517e+02,  4.75667056e+03,  1.94505407e+03,  7.64527556e+02,\n",
       "        6.97802701e+03,  1.89572969e+03,  4.61560371e+03,  2.40748047e+03,\n",
       "        1.98169523e+03,  1.37352404e+04,  4.30082300e+03,  8.37043268e+03,\n",
       "        2.58105981e+03, -2.56510456e+02,  1.70338236e+03,  3.74634487e+03,\n",
       "       -6.68542295e+02,  2.94135058e+03,  8.63144158e+03,  3.24669383e+02,\n",
       "        1.21316677e+04,  1.97276684e+03,  3.36476717e+04, -9.55088796e+01,\n",
       "        2.51837546e+03,  2.91077317e+03,  4.37649456e+03,  8.29894643e+03,\n",
       "        2.39621512e+03,  4.39576423e+02,  4.22193655e+03,  4.74838234e+03,\n",
       "       -1.64709637e+02,  1.17635634e+04,  1.14487456e+03,  7.49082066e+03,\n",
       "        1.36475049e+03,  2.13698793e+04,  8.38536819e+03,  4.24443396e+03,\n",
       "        6.71231943e+02,  1.46963247e+04,  7.63754400e+03,  6.21398199e+02,\n",
       "        4.41477451e+03,  9.54085557e+03,  4.27788524e+03,  1.26860938e+04,\n",
       "        8.00385814e+02,  4.19794725e+03,  1.74622132e+04, -2.82978270e+02,\n",
       "        3.29493879e+02,  7.11092525e+03, -6.08823514e+02,  3.24867684e+03,\n",
       "        1.45570900e+04,  5.17949923e+03,  6.81472198e+03,  8.29095456e+03,\n",
       "        3.34269213e+03,  1.80180525e+03,  3.31776944e+03,  3.51444941e+03,\n",
       "        1.67732048e+04,  4.01136629e+03,  1.61783782e+03,  8.99232213e+03,\n",
       "        6.99034924e+03,  6.52602751e+02,  8.56017184e+03,  1.32974348e+03,\n",
       "        8.75040185e+03,  8.82870252e+02,  3.78042607e+03,  2.45394648e+03,\n",
       "       -6.22935491e+02,  1.18948002e+03,  3.14738757e+03,  2.73332590e+03,\n",
       "        4.94118814e+03,  8.81713795e+03,  2.64917755e+03,  4.34119433e+03,\n",
       "        8.76926725e+03,  1.60922683e+03,  3.26234616e+03,  1.97172308e+04,\n",
       "        1.08865238e+04, -3.54464396e+01,  4.04997254e+03, -3.91956233e+02,\n",
       "        1.75014610e+03,  6.35629659e+03,  2.73694235e+03,  7.01627092e+01,\n",
       "        9.59702003e+02,  8.86100509e+02,  5.39656595e+03,  6.93371982e+03,\n",
       "        8.34747652e+03,  2.17217228e+03,  3.09847466e+03,  7.97810147e+03,\n",
       "        1.35471735e+03,  5.10032885e+03,  1.62321159e+04, -1.33341568e+02,\n",
       "        2.56700805e+03,  1.33239357e+03,  7.95256025e+03,  1.80602971e+03,\n",
       "        5.10346663e+03,  1.88582920e+03,  4.89601883e+03,  1.46583824e+03,\n",
       "        1.00756406e+04,  8.76512429e+03,  2.75289497e+02,  6.38199425e+03,\n",
       "        5.94255275e+03,  1.43567338e+03,  1.33506017e+02,  2.86502793e+02,\n",
       "        3.24235776e+03,  3.54434304e+03,  7.56836065e+02,  2.99217144e+03,\n",
       "        1.69772593e+03,  3.98861855e+03,  2.06614434e+04,  2.49350180e+03,\n",
       "       -9.44098367e+01,  2.12517838e+02,  1.54522384e+03,  8.10210853e+03,\n",
       "        1.98721559e+03,  8.30287864e+03,  4.96221038e+03,  1.60491209e+03,\n",
       "        3.36746781e+03,  1.02952413e+04,  9.53808737e+03,  3.08690646e+03,\n",
       "       -2.38279666e+02,  1.67645458e+04,  5.66458340e+02,  1.07259678e+03,\n",
       "       -8.39321766e+02,  9.64800215e+03,  4.71771097e+03,  7.82538559e+03,\n",
       "        1.25528467e+03,  6.18581661e+02,  4.64722547e+02,  4.97064072e+02])"
      ]
     },
     "execution_count": 25,
     "metadata": {},
     "output_type": "execute_result"
    }
   ],
   "source": [
    "y_train_pred = lr.predict(X_train)\n",
    "y_train_pred"
   ]
  },
  {
   "cell_type": "code",
   "execution_count": 26,
   "id": "6f3957ff",
   "metadata": {},
   "outputs": [
    {
     "data": {
      "text/plain": [
       "array([ 5.94584924e+03,  3.63417037e+03,  2.90275356e+03,  4.84861444e+02,\n",
       "        8.29084083e+03,  2.18640293e+03,  4.11955765e+03, -1.24310518e+02,\n",
       "        8.64462304e+02,  1.09610261e+04,  2.35847718e+04,  1.48178544e+03,\n",
       "        9.05523139e+02,  2.89210483e+03,  7.69574272e+03,  4.34011889e+03,\n",
       "        5.48747917e+03,  1.30271003e+04,  9.04737218e+03,  3.92345964e+03,\n",
       "        5.76615348e+03,  1.02603277e+03,  4.76551948e+01,  2.53921892e+03,\n",
       "        8.22574330e+03,  2.15843551e+02,  1.40809381e+03,  1.15627540e+03,\n",
       "       -7.31137501e+02,  1.73563520e+02,  3.76280162e+03,  2.40819608e+03,\n",
       "        1.68467943e+04,  8.75615129e+03,  2.97399177e+03,  2.25374282e+03,\n",
       "        4.17660482e+03,  9.08929900e+03,  8.73157648e+02,  7.34814818e+02,\n",
       "        1.34764361e+03,  2.26403225e+03,  1.00300494e+04,  2.73131934e+03,\n",
       "       -5.06173890e+02,  2.00265344e+03,  2.00394928e+03,  8.77851079e+03,\n",
       "        9.03408056e+03, -1.13323406e+02,  5.54981640e+03,  3.73925317e+03,\n",
       "        4.30332974e+03,  3.51706470e+02,  2.97237465e+03,  4.38040683e+02,\n",
       "        7.35852582e+03,  5.78778409e+02,  1.36450337e+03, -6.82843999e+02,\n",
       "        2.65552573e+03,  5.02162567e+03,  7.92797463e+03,  6.99980482e+02,\n",
       "        2.22848707e+03,  3.27532011e+03,  5.33287531e+03,  1.44509530e+04,\n",
       "        2.51179122e+03,  2.70784204e+03,  5.89613176e+03,  8.85949884e+03,\n",
       "        9.89914833e+02, -3.65130782e+02,  9.21557918e+02,  1.72658328e+04,\n",
       "       -3.87156980e+01,  8.47422130e+03,  1.30784071e+04,  3.86672977e+03,\n",
       "        5.86610952e+03,  9.22131414e+03,  1.07322599e+04,  2.52217094e+04,\n",
       "        8.98367330e+03,  3.70297021e+03,  4.23552393e+03,  1.04966160e+03,\n",
       "        1.57804853e+03,  2.59007787e+03,  1.51491144e+04, -6.74715383e+02,\n",
       "        7.76875061e+03,  2.21309858e+03,  2.04561543e+03,  2.89707687e+03,\n",
       "        3.91237419e+03,  1.02748788e+04,  5.79142878e+03,  2.41401279e+03,\n",
       "        2.07925131e+03,  1.77214401e+03,  2.61675086e+03,  5.78157259e+03,\n",
       "       -2.99540277e+02,  5.47162463e+03,  4.04669255e+03,  2.26376833e+03,\n",
       "        6.92952485e+03,  1.21413074e+04,  8.20901343e+01,  4.69363768e+03,\n",
       "        9.25104207e+02,  7.99310830e+03,  3.13449894e+03,  1.17835834e+04,\n",
       "       -3.43424656e+02,  6.15352322e+03,  1.15011700e+03,  1.25820313e+04,\n",
       "        6.91231367e+03,  6.29361621e+03,  5.18406142e+03,  4.47199419e+03,\n",
       "       -1.09395289e+02,  3.47510015e+03,  4.06821174e+03,  1.33403213e+03,\n",
       "       -7.90779717e+02,  4.24098671e+02,  1.38745579e+03,  7.70579733e+02,\n",
       "        2.50811805e+02,  2.32112405e+02,  1.60844176e+03,  2.13579130e+03,\n",
       "        5.52220565e+02,  4.91988955e+03,  1.02155287e+04,  1.70232079e+04,\n",
       "        2.67680371e+03,  3.79319308e+03,  3.08176712e+03,  1.04507239e+04,\n",
       "        1.07804700e+04, -2.11402196e+02,  1.53574171e+03,  7.75251918e+03,\n",
       "        1.91757896e+02,  7.38316213e+03,  6.07626272e+02,  3.19120861e+03,\n",
       "       -1.08008098e+03,  3.33947921e+03,  4.91432041e+03,  3.09135583e+03,\n",
       "        1.00413860e+03,  2.39038653e+03,  2.91491601e+03,  1.56977469e+03,\n",
       "       -6.44065632e+02,  3.01918238e+04,  1.60463535e+04,  3.17435960e+03,\n",
       "        1.34496692e+03,  4.66487115e+03,  8.58824457e+03,  5.98365094e+04,\n",
       "        5.38871269e+03,  2.03802770e+03,  2.46462635e+03,  1.75242093e+03,\n",
       "        4.94057575e+03,  2.82345650e+02,  2.97000096e+04,  1.59658200e+04,\n",
       "       -4.70679222e+02, -1.66343047e+02,  1.89733154e+01,  6.86631479e+02,\n",
       "        2.10165725e+03,  1.23546331e+04,  2.76059557e+03,  2.04395494e+03,\n",
       "        5.37746369e+03, -6.05066905e+02,  6.44420992e+03,  8.33018290e+03,\n",
       "        4.95201099e+03,  3.59294530e+03,  2.12778747e+02,  3.44331289e+03,\n",
       "        8.14745196e+02,  3.26673257e+03,  8.50422276e+02,  3.31271246e+03,\n",
       "        5.72359104e+03,  1.08358243e+04,  1.70936317e+03, -3.95469082e+02,\n",
       "        6.31576545e+03,  6.63522476e+03,  8.69884301e+03,  4.28304367e+02,\n",
       "        5.34784143e+03,  5.79600057e+03,  5.58792683e+03,  2.37140796e+02,\n",
       "        3.14360266e+03,  1.72370856e+03,  8.62265382e+03,  9.26035198e+02,\n",
       "        2.18430689e+02,  2.52773353e+03,  1.05230506e+03,  2.22906051e+03,\n",
       "        7.13375522e+02,  1.90880758e+03,  7.21142404e+03,  8.84556692e+02,\n",
       "        1.98201066e+03,  2.94733218e+03, -1.98343970e+02,  7.40355292e+03,\n",
       "        6.61400590e+03, -8.76722162e+02,  3.37913809e+03,  1.24649561e+04,\n",
       "        2.53038749e+02,  6.92322150e+03,  2.74387945e+03,  6.35548904e+03,\n",
       "        1.05715759e+03,  2.32627774e+03,  5.21072821e+03,  2.17573972e+03,\n",
       "        1.64225381e+04,  2.32934777e+02,  7.83778196e+03,  9.24789633e+02,\n",
       "        4.01130965e+03,  2.28977866e+03,  2.70659774e+03,  2.67739156e+03,\n",
       "        5.05169593e+02,  2.74923768e+03, -9.20794752e+02,  1.28641879e+03,\n",
       "        1.74363436e+03, -4.33077110e+02,  5.32902586e+03,  4.96614357e+03,\n",
       "        7.90239102e+03,  2.50060691e+03,  1.62057808e+03,  8.18924656e+03,\n",
       "        1.94315653e+03,  8.95234389e+03,  1.90049587e+03,  3.17018010e+03,\n",
       "        2.09129290e+03,  7.86795962e+03,  1.04370080e+04,  6.09426913e+03,\n",
       "        9.86045396e+02,  1.71117183e+03,  2.30485112e+03,  7.90449455e+03,\n",
       "        2.34728038e+03,  6.83259029e+03,  2.63273720e+02,  7.25988804e+03,\n",
       "        1.29312437e+02,  2.60786426e+03,  1.23763268e+04,  8.36198956e+03,\n",
       "       -5.01774613e+02,  1.49543982e+03,  2.45712996e+03,  5.51337785e+03,\n",
       "        3.56221261e+03,  1.27689214e+03,  1.80765032e+03,  7.12328084e+03,\n",
       "        1.32072882e+03,  4.01495524e+03, -2.26174335e+02,  6.00737712e+03,\n",
       "        1.00590493e+03,  5.27558939e+03,  5.23629945e+02,  6.88549844e+03,\n",
       "        9.16881778e+03,  9.18197363e+03,  2.07476387e+03,  5.64298278e+03,\n",
       "        6.66623310e+03,  2.97953503e+03,  4.67906710e+03,  3.28797958e+03,\n",
       "       -5.49007056e+02, -5.40138820e+02,  1.06502025e+04,  9.66407989e+02,\n",
       "        1.91844358e+03,  2.13649958e+03,  2.50182433e+03, -3.93102292e+02,\n",
       "        9.33117880e+03,  1.63343679e+04, -1.29057423e+02,  3.65410831e+03,\n",
       "        5.16703324e+03,  1.29486177e+04,  1.26790374e+03,  8.71223590e+03,\n",
       "        3.45968316e+03,  3.74309376e+02,  4.66612608e+00,  2.17112154e+02,\n",
       "        3.76422306e+03,  2.48930971e+03,  1.10455848e+04, -4.25319016e+02,\n",
       "        4.64606534e+03,  1.37747063e+04,  1.01478565e+04,  2.52461939e+03,\n",
       "        4.76962398e+03,  1.25192394e+03,  5.93142861e+03,  2.96066935e+03,\n",
       "        1.07981102e+04,  2.89858529e+03,  6.81217363e+03,  2.37793595e+02,\n",
       "        3.01548716e+03,  3.39413049e+03,  1.25181195e+04,  1.11735375e+03,\n",
       "        3.44312540e+03, -2.18727102e+01,  1.62563651e+04,  1.37865517e+03,\n",
       "        4.50924020e+03,  2.73012232e+02,  8.67968211e+02,  4.54562795e+03,\n",
       "        8.89464232e+03,  2.29464279e+03,  6.65272313e+03,  5.71165693e+03,\n",
       "        9.01883805e+02,  1.20244237e+04,  5.03549408e+02, -5.47725058e+02,\n",
       "        1.67504230e+03,  6.91349739e+03,  3.20670478e+03,  6.26908383e+03,\n",
       "        3.96137713e+02,  3.90863179e+02,  1.19914915e+03,  1.78416809e+03,\n",
       "        1.00084475e+03,  3.77432520e+02,  1.22392867e+03,  1.42704469e+04,\n",
       "        2.17392062e+03,  9.79177090e+03,  1.22074808e+03])"
      ]
     },
     "execution_count": 26,
     "metadata": {},
     "output_type": "execute_result"
    }
   ],
   "source": [
    "y_test_pred = lr.predict(X_test)\n",
    "y_test_pred"
   ]
  },
  {
   "cell_type": "code",
   "execution_count": 27,
   "id": "92ee7151",
   "metadata": {},
   "outputs": [
    {
     "name": "stdout",
     "output_type": "stream",
     "text": [
      "R2Score :  0.9549409567088774\n",
      "mean_absolute_error :  746.2906459590122\n",
      "mean_squared_error :  1111797.450114442\n",
      "Root mean_squared_error :  1054.4180623047207\n"
     ]
    }
   ],
   "source": [
    "print(\"R2Score : \" ,r2_score(y_test, y_test_pred)) \n",
    "print(\"mean_absolute_error : \",mean_absolute_error(y_test, y_test_pred))\n",
    "print(\"mean_squared_error : \" ,mean_squared_error(y_test, y_test_pred)) \n",
    "print(\"Root mean_squared_error : \",np.sqrt(mean_squared_error(y_test, y_test_pred)))"
   ]
  },
  {
   "cell_type": "code",
   "execution_count": 28,
   "id": "7167a674",
   "metadata": {},
   "outputs": [],
   "source": [
    "sc = StandardScaler()\n",
    "X_train_std = sc.fit_transform(X_train)\n",
    "X_test_std = sc.transform(X_test)"
   ]
  },
  {
   "cell_type": "code",
   "execution_count": 29,
   "id": "2904d2dc",
   "metadata": {},
   "outputs": [
    {
     "name": "stdout",
     "output_type": "stream",
     "text": [
      "Accuracy: 0.9973841447717356\n",
      "R squared: 0.9973841447717356\n"
     ]
    }
   ],
   "source": [
    "rf_tree = RandomForestRegressor(random_state=0)\n",
    "rf_tree.fit(X_train_std,y_train)\n",
    "rf_tree_y_pred = rf_tree.predict(X_train_std)\n",
    "print(\"Accuracy: {}\".format(rf_tree.score(X_train_std,y_train)))\n",
    "print(\"R squared: {}\".format(r2_score(y_true=y_train,y_pred=rf_tree_y_pred)))"
   ]
  }
 ],
 "metadata": {
  "kernelspec": {
   "display_name": "Python 3 (ipykernel)",
   "language": "python",
   "name": "python3"
  },
  "language_info": {
   "codemirror_mode": {
    "name": "ipython",
    "version": 3
   },
   "file_extension": ".py",
   "mimetype": "text/x-python",
   "name": "python",
   "nbconvert_exporter": "python",
   "pygments_lexer": "ipython3",
   "version": "3.9.12"
  }
 },
 "nbformat": 4,
 "nbformat_minor": 5
}
